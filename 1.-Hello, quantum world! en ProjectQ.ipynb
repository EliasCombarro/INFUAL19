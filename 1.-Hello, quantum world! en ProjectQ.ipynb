{
 "cells": [
  {
   "cell_type": "markdown",
   "metadata": {},
   "source": [
    "# Hello, quantum world! en ProjectQ\n",
    "\n",
    "En este notebook mostraremos cómo ProjectQ puede ser usado para simular circuitos cuánticos.\n",
    "\n",
    "## Simulando un circuito\n",
    "\n",
    "ProjectQ permite simular circuitos cuánticos en el ordenador local. Veamos cómo conseguirlo con un ejemplo sencillo. Este primer circuito simplemente aplica una puerta de Hadamard a un qubit y lo mide. El resultado será, aleatoriamente, un 0 un 1. Ejecutando el código en distintas ocasiones, se obtendrá 0 o 1 con un 50% de probabilidad.\n",
    "\n",
    "Nótese que hemos definido una función que es la que encapsula todas las puertas del circuito. Esta función recibe un *engine* (un motor de ejecución, que puede ser un simulador, un ordenador cuántico real...) y devuelve el estado de los qubits tras la aplicación de las puertas. Esto es útil, porque nos permite reutilizar el mismo circuito en distintos entornos de ejecución."
   ]
  },
  {
   "cell_type": "code",
   "execution_count": null,
   "metadata": {},
   "outputs": [],
   "source": [
    "import projectq\n",
    "from projectq.ops import Measure, H\n",
    "\n",
    "def hello_world(eng):\n",
    "    \n",
    "    qubit = eng.allocate_qubit() # Declaramos un qubit\n",
    "    H | qubit                    # Aplicamos la puerta H al qubit\n",
    "    Measure | qubit              # Medimos el qubit\n",
    "    eng.flush()                  # Mandamos todas las instrucciones al engine para que las ejecute\n",
    "    \n",
    "    return qubit                 # Devolvemos el estado del qubit\n",
    "\n",
    "\n",
    "eng = projectq.MainEngine()  # Creamos un 'engine' que nos permitirá simular nuestros circuitos\n",
    "qubit = hello_world(eng)     # Usamos el simulador para ejecutar el circuito\n",
    "\n",
    "print(int(qubit))            # Convertimos el valor medido en el qubit a entero y lo mostramos "
   ]
  },
  {
   "cell_type": "markdown",
   "metadata": {},
   "source": [
    "Vamos a ejecutar 1000 veces el circuito anterior, calculando el número de aparaciones de cada resultado."
   ]
  },
  {
   "cell_type": "code",
   "execution_count": null,
   "metadata": {},
   "outputs": [],
   "source": [
    "resultados = {0:0,1:0}\n",
    "\n",
    "for _ in range(1000):\n",
    "    qubit = hello_world(eng)       \n",
    "    valor = int(qubit)\n",
    "    resultados[valor]+= 1\n",
    "\n",
    "print(resultados)\n",
    "    "
   ]
  },
  {
   "cell_type": "markdown",
   "metadata": {},
   "source": [
    "Al tratarse de un simulador, podemos acceder a la función de onda de los qubits, algo que en los ordenadores cuánticos reales no es posible. Veamos cómo se hace usando el mismo circuito de antes. Es importante darse cuenta de que **no realizamos la medida** antes de acceder a las amplitudes y probabilidades, porque eso haría colapsar la función de onda en un resultado concreto. Sin embargo, sí que debemos medir después, para evitar un **error** por parte del compilador (todos los qubits de todos los circuitos deben medirse o devolverse al estado $|0\\rangle$ antes de terminar)."
   ]
  },
  {
   "cell_type": "code",
   "execution_count": null,
   "metadata": {},
   "outputs": [],
   "source": [
    "qubit = eng.allocate_qubit()\n",
    "H | qubit\n",
    "eng.flush()\n",
    "\n",
    "amp = {}\n",
    "prob = {}\n",
    "for val in ['0','1']:\n",
    "    amp[val]  = eng.backend.get_amplitude(val,qubit)\n",
    "    prob[val] = eng.backend.get_probability(val,qubit)\n",
    "    \n",
    "print('Amplitudes:', amp)\n",
    "print('Probabilidades', prob)\n",
    "\n",
    "Measure | qubit"
   ]
  }
 ],
 "metadata": {
  "kernelspec": {
   "display_name": "Python 3",
   "language": "python",
   "name": "python3"
  },
  "language_info": {
   "codemirror_mode": {
    "name": "ipython",
    "version": 3
   },
   "file_extension": ".py",
   "mimetype": "text/x-python",
   "name": "python",
   "nbconvert_exporter": "python",
   "pygments_lexer": "ipython3",
   "version": "3.6.8"
  }
 },
 "nbformat": 4,
 "nbformat_minor": 2
}
