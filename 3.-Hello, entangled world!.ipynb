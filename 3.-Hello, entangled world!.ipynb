{
 "cells": [
  {
   "cell_type": "markdown",
   "metadata": {},
   "source": [
    "## Hello, entangled world!\n",
    "\n",
    "Para ejemplificar como se trabaja en ProjectQ con pares de qubits, vamos a implementar el circuito de la figura, que construye un estado entrelazado (un estado de Bell)\n",
    "\n",
    "<img src=\"Images/bell.png\" width=50%>"
   ]
  },
  {
   "cell_type": "code",
   "execution_count": null,
   "metadata": {
    "collapsed": true
   },
   "outputs": [],
   "source": [
    "import projectq\n",
    "from projectq.ops import Measure, H, CNOT, All\n",
    "\n",
    "def hello_entangled_world(eng):\n",
    "    q = eng.allocate_qureg(2) # Declaramos dos qubits\n",
    "    H | q[0] #Aplicamos la puerta H sobre el primero\n",
    "    CNOT | (q[0],q[1]) # Aplicamos la puerta CNOT con control en q[0]\n",
    "    All(Measure) | q   #Medimos todos los qubits\n",
    "    eng.flush() # Mandamos todas las instrucciones al engine\n",
    "    \n",
    "    return q # Devolvemos los qubits\n",
    "\n",
    "eng = projectq.MainEngine()\n",
    "q = hello_entangled_world(eng)\n",
    "print(int(q[0]),int(q[1]))"
   ]
  },
  {
   "cell_type": "markdown",
   "metadata": {},
   "source": [
    "Ejecutamos el circuito 1000 veces y calculamos la frecuencia de cada una de las cuatro posibles salidas. "
   ]
  },
  {
   "cell_type": "code",
   "execution_count": null,
   "metadata": {
    "collapsed": true
   },
   "outputs": [],
   "source": [
    "resultados = {\"00\":0,\"01\":0,\"10\":0,\"11\":0}\n",
    "\n",
    "for _ in range(1000):\n",
    "    q = hello_entangled_world(eng)       \n",
    "    valor = str(int(q[0])) + str(int(q[1]))\n",
    "    resultados[valor]+= 1\n",
    "\n",
    "print(resultados)"
   ]
  },
  {
   "cell_type": "markdown",
   "metadata": {},
   "source": [
    "Ahora, vamos a acceder directamente a las amplitudes y probabilidades de los qubits"
   ]
  },
  {
   "cell_type": "code",
   "execution_count": null,
   "metadata": {
    "collapsed": true
   },
   "outputs": [],
   "source": [
    "q = eng.allocate_qureg(2)\n",
    "H | q[0]\n",
    "CNOT | (q[0],q[1])\n",
    "eng.flush()\n",
    "\n",
    "print(\"Amplitud de 00\", eng.backend.get_amplitude(\"00\",q))\n",
    "print(\"Amplitud de 01\", eng.backend.get_amplitude(\"01\",q))\n",
    "print(\"Amplitud de 10\", eng.backend.get_amplitude(\"10\",q))\n",
    "print(\"Amplitud de 11\", eng.backend.get_amplitude(\"11\",q))\n",
    "print()\n",
    "print(\"Probabilidad de 00\", eng.backend.get_probability(\"00\",q))\n",
    "print(\"Probabilidad de 01\", eng.backend.get_probability(\"01\",q))\n",
    "print(\"Probabilidad de 10\", eng.backend.get_probability(\"10\",q))\n",
    "print(\"Probabilidad de 11\", eng.backend.get_probability(\"11\",q))\n",
    "\n",
    "\n",
    "All(Measure) | q"
   ]
  }
 ],
 "metadata": {
  "kernelspec": {
   "display_name": "Python 3",
   "language": "python",
   "name": "python3"
  },
  "language_info": {
   "codemirror_mode": {
    "name": "ipython",
    "version": 3
   },
   "file_extension": ".py",
   "mimetype": "text/x-python",
   "name": "python",
   "nbconvert_exporter": "python",
   "pygments_lexer": "ipython3",
   "version": "3.6.8"
  }
 },
 "nbformat": 4,
 "nbformat_minor": 2
}
