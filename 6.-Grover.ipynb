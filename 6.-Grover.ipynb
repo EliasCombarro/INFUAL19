{
 "cells": [
  {
   "cell_type": "markdown",
   "metadata": {},
   "source": [
    "# El algoritmo de Grover\n",
    "\n",
    "Este notebook implementa el algoritmo de búsqueda de Grover utilizando ProjectQ. El circuito de este algoritmo, que depende de un oráculo, se puede ver en la figura.\n",
    "\n",
    "<img src=\"Images/grover.png\" widht=50%>\n",
    "\n",
    "El primer paso es definir una función que recibe el entorno de ejecución, el número de qubits, el oráculo y el número de iteraciones y retorna el elemento encontrado (que puede o no ser el buscado). \n"
   ]
  },
  {
   "cell_type": "code",
   "execution_count": null,
   "metadata": {
    "collapsed": true
   },
   "outputs": [],
   "source": [
    "import projectq\n",
    "\n",
    "from projectq.ops import All, Measure, H, X, Z\n",
    "from projectq.meta import Control\n",
    "\n",
    "def grover(eng,n,oracle,it):\n",
    "    \n",
    "    # Recibe el entorno de ejecución, el número de qubits, el oráculo y el número de iteraciones\n",
    "    # Devuelve el elemento medido tras aplicar el algoritmo de Grover\n",
    "    \n",
    "    q = eng.allocate_qureg(n)   # Los n qubits de entrada al oráculo\n",
    "    out = eng.allocate_qubit()  # El qubit de salida del oráculo\n",
    "    \n",
    "    All(H) | q\n",
    "    X | out      # ¡OJO! El estado inicial del qubit de salida del oráculo es |1>\n",
    "    H | out\n",
    "    \n",
    "    # Bucle principal\n",
    "    \n",
    "    for _ in range(it):\n",
    "        \n",
    "        # Usamos el oráculo\n",
    "    \n",
    "        q, out = oracle(eng,n,q,out)  # Llamada al oráculo\n",
    "    \n",
    "        # Operador de difusión\n",
    "        \n",
    "        All(H) | q\n",
    "        All(X) | q\n",
    "        with Control(eng,q[0:n-1]):\n",
    "            Z | q[n-1]\n",
    "        All(X) | q\n",
    "        All(H) | q\n",
    "\n",
    "    All(Measure) | q\n",
    "    Measure | out\n",
    "    \n",
    "    eng.flush()\n",
    "    \n",
    "    return [int(q[i]) for i in range(n)]"
   ]
  },
  {
   "cell_type": "markdown",
   "metadata": {},
   "source": [
    "Para probarlo, definimos un oráculo correspondiente a una función booleana que sólo devuelve 1 cuando la cadena de entrada está formada toda por unos"
   ]
  },
  {
   "cell_type": "code",
   "execution_count": null,
   "metadata": {
    "collapsed": true
   },
   "outputs": [],
   "source": [
    "def unos(eng,n,q,out):\n",
    "    \n",
    "    with Control(eng,q):\n",
    "        X | out\n",
    "        \n",
    "    return q, out"
   ]
  },
  {
   "cell_type": "markdown",
   "metadata": {},
   "source": [
    "Vamos a comprobar el funcionamiento del algoritmo calculando la probabilidad de encontrar el elemento marcado con distinto número de iteraciones cuando tenemos 4 qubits. "
   ]
  },
  {
   "cell_type": "code",
   "execution_count": null,
   "metadata": {
    "collapsed": true
   },
   "outputs": [],
   "source": [
    "%matplotlib inline\n",
    "import matplotlib.pyplot as plt\n",
    "\n",
    "max_it = 10\n",
    "rep = 30\n",
    "n = 4\n",
    "\n",
    "iteraciones = range(max_it)\n",
    "prob = [0.0 for _ in range(max_it)]\n",
    "buscado = [1 for _ in range(n)]\n",
    "\n",
    "for it in iteraciones:\n",
    "    for _ in range(rep): # Repetimos para estimar la probabilidad\n",
    "        eng = projectq.MainEngine()\n",
    "        if(grover(eng,n,unos,it)==buscado):\n",
    "            prob[it]+=1.0/rep\n",
    "\n",
    "plt.xlabel('Iteraciones')\n",
    "plt.ylabel('Probabilidad')\n",
    "plt.plot(iteraciones,prob)\n",
    "plt.show()"
   ]
  },
  {
   "cell_type": "markdown",
   "metadata": {},
   "source": [
    "Como se puede observar, para el valor entero más cercano a $\\frac{\\pi}{4}\\sqrt{2^n}$, que en este caso es 3, se obtiene una alta probabilidad de encontrar el elemento marcado."
   ]
  }
 ],
 "metadata": {
  "kernelspec": {
   "display_name": "Python 3",
   "language": "python",
   "name": "python3"
  },
  "language_info": {
   "codemirror_mode": {
    "name": "ipython",
    "version": 3
   },
   "file_extension": ".py",
   "mimetype": "text/x-python",
   "name": "python",
   "nbconvert_exporter": "python",
   "pygments_lexer": "ipython3",
   "version": "3.6.8"
  }
 },
 "nbformat": 4,
 "nbformat_minor": 2
}
