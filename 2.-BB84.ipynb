{
 "cells": [
  {
   "cell_type": "markdown",
   "metadata": {},
   "source": [
    "# BB84\n",
    "\n",
    "Vamos a utilizar ProjectQ para simular el funcionamiento del protocolo de comunicación BB84\n",
    "\n",
    "<img src=\"Images/bb84.jpg\" width=100%>\n",
    "\n",
    "Usaremos el circuito del notebook anterior para el paso de generación de bits aleatorios"
   ]
  },
  {
   "cell_type": "code",
   "execution_count": null,
   "metadata": {
    "collapsed": true
   },
   "outputs": [],
   "source": [
    "import projectq\n",
    "from projectq.ops import Measure, H\n",
    "\n",
    "def hello_world(eng):\n",
    "    \n",
    "    qubit = eng.allocate_qubit() # Declaramos un qubit\n",
    "    H | qubit                    # Aplicamos la puerta H al qubit\n",
    "    Measure | qubit              # Medimos el qubit\n",
    "    eng.flush()                  # Mandamos todas las instrucciones al engine para que las ejecute\n",
    "    \n",
    "    return qubit                 # Devolvemos el estado del qubit\n",
    "\n"
   ]
  },
  {
   "cell_type": "code",
   "execution_count": null,
   "metadata": {
    "collapsed": true,
    "scrolled": true
   },
   "outputs": [],
   "source": [
    "n = 100 # Número de qubits que vamos a usar\n",
    "\n",
    "# Alice genera n bits aleatorios (de los que saldrá la clave)\n",
    "\n",
    "eng = projectq.MainEngine()\n",
    "bits_alice = [int(hello_world(eng)) for _ in range(n) ] \n",
    "print(bits_alice)"
   ]
  },
  {
   "cell_type": "code",
   "execution_count": null,
   "metadata": {
    "collapsed": true
   },
   "outputs": [],
   "source": [
    "# Alice elige al azar las bases en las que va a codificar\n",
    "\n",
    "basis_alice = [int(hello_world(eng)) for _ in range(n) ] \n",
    "print(basis_alice)"
   ]
  },
  {
   "cell_type": "code",
   "execution_count": null,
   "metadata": {
    "collapsed": true
   },
   "outputs": [],
   "source": [
    "# Bob elige al azar las bases en las que va a medir\n",
    "\n",
    "basis_bob = [int(hello_world(eng)) for _ in range(n) ] \n",
    "print(basis_bob)"
   ]
  },
  {
   "cell_type": "code",
   "execution_count": null,
   "metadata": {
    "collapsed": true
   },
   "outputs": [],
   "source": [
    "# Ahora, Alice codifica cada bit y se lo envía a Bob, que lo mide \n",
    "# en la base que había elegido al azar\n",
    "\n",
    "from projectq.ops import X\n",
    "\n",
    "bits_bob = []\n",
    "\n",
    "for i in range(n):\n",
    "    qubit = eng.allocate_qubit()\n",
    "    if bits_alice[i]:  # Alice tiene que enviar un uno\n",
    "        X | qubit\n",
    "    if basis_alice[i]: # Alice tiene que codificar en la base |+>, |->\n",
    "        H | qubit\n",
    "        \n",
    "    # Alice envía el qubit a Bob, que lo mide\n",
    "    \n",
    "    if basis_bob[i]: # Bob tiene que medir en la base |+>, |->\n",
    "        H | qubit\n",
    "    \n",
    "    Measure | qubit\n",
    "    bits_bob.append(int(qubit))\n",
    "    \n",
    "print(bits_bob)\n",
    "    "
   ]
  },
  {
   "cell_type": "code",
   "execution_count": null,
   "metadata": {
    "collapsed": true
   },
   "outputs": [],
   "source": [
    "# Bob le comunica a Alice las bases que ha utilizado para medir\n",
    "# y Alice le dice en cuáles coincide con la que ella utilizó\n",
    "\n",
    "key = []\n",
    "\n",
    "for i in range(n):\n",
    "    if basis_alice[i] == basis_bob[i]:\n",
    "        key.append(bits_bob[i])\n",
    "        \n",
    "print(\"Longitud de la clave\", len(key))\n",
    "print(key)"
   ]
  }
 ],
 "metadata": {
  "kernelspec": {
   "display_name": "Python 3",
   "language": "python",
   "name": "python3"
  },
  "language_info": {
   "codemirror_mode": {
    "name": "ipython",
    "version": 3
   },
   "file_extension": ".py",
   "mimetype": "text/x-python",
   "name": "python",
   "nbconvert_exporter": "python",
   "pygments_lexer": "ipython3",
   "version": "3.6.8"
  }
 },
 "nbformat": 4,
 "nbformat_minor": 2
}
