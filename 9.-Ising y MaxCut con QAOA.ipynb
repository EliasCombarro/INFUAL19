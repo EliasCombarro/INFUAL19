{
 "cells": [
  {
   "cell_type": "markdown",
   "metadata": {},
   "source": [
    "# Implementación del Quantum Approximate Optimization Algorithm (QAOA) para el modelo de Ising y el problema del corte máximo\n",
    "\n",
    "## Modelo de Ising \n",
    "\n",
    "Queremos obtener el mínimo del hamiltoniano correspondiente a un modelo de Ising\n",
    "\n",
    "$$H = \\sum_{i,j=1}^n J_{i,j}Z_iZ_j + \\sum_{i=1}^n h_iZ_i$$\n",
    "\n",
    "Para ello, emplearemos el algoritmo QAOA.\n",
    "\n",
    "Comenzamos definiendo una función que prepara un estado dependiendo de parámetros (ángulos) $\\beta,\\gamma$ y otra que estima su energía con respecto a $H$. "
   ]
  },
  {
   "cell_type": "code",
   "execution_count": null,
   "metadata": {
    "collapsed": true
   },
   "outputs": [],
   "source": [
    "import projectq\n",
    "from projectq.ops import All, Measure, QubitOperator, H, R, CNOT\n",
    "\n",
    "import matplotlib.pyplot as plt\n",
    "from scipy.optimize import minimize\n",
    "import numpy as np\n",
    "\n",
    "def state(eng,n,p,J,h,angles):\n",
    "# eng es el engine (simulador, hardware real...) sobre el que se trabaja\n",
    "# n es el número de spines (qubits)\n",
    "# p es el parámetro del QAOA\n",
    "# J es un diccionario con las conexiones (i,j) del modelo y sus pesos\n",
    "# h es un diccionario con los qubits que tienen un peso no nulo y sus pesos correspondientes\n",
    "# angles la secuencia de ángulos; alternan los de la parte Z y los de la parte X  \n",
    "       \n",
    "    # Crear un registro de n qubits\n",
    "    q = eng.allocate_qureg(n)\n",
    "    # Superposición inicial. Estado |s>\n",
    "    for a in range(n):\n",
    "        H | q[a]\n",
    "    # Creamos la parte del cirucito correspondiente a cada ángulo\n",
    "    for a in range(p):\n",
    "        # Conexiones JijZij\n",
    "        for (i,j) in J:\n",
    "            CNOT | (q[i],q[j])\n",
    "            R(angles[a]*J[(i,j)]) | q[j]\n",
    "            CNOT | (q[i],q[j])\n",
    "        # Parte hiZi\n",
    "        for i in h:\n",
    "            R(angles[a]*h[i]) | q[i]\n",
    "        # Añadimos las rotaciones correspondientes a la parte X\n",
    "        for i in range(n):\n",
    "            H | q[i]\n",
    "            R(angles[a+1]) | q[i]\n",
    "            H | q[i]\n",
    "    #Volcamos todo\n",
    "    eng.flush()\n",
    "    return q\n",
    "\n",
    "def expectation_circuit(n, p, J, h, angles, reps = 200):\n",
    "# n es el número de spines (qubits)\n",
    "# p es el parámetro del QAOA\n",
    "# J es un diccionario con las conexiones (i,j) del modelo y sus pesos\n",
    "# h es un diccionario con los qubits que tienen un peso no nulo y sus pesos correspondientes\n",
    "# angles la secuencia de ángulos; alternan los de la parte Z y los de la parte X\n",
    "# reps es el número de repeticiones para la estimación\n",
    "    energy = 0.0\n",
    "    \n",
    "    for i in range(reps):\n",
    "        # Inicializar el simulador\n",
    "        eng = projectq.MainEngine()\n",
    "        # Preparar el estado\n",
    "        q = state(eng,n,p,J,h,angles)                \n",
    "        #Medimos\n",
    "        All(Measure) | q\n",
    "        # flush\n",
    "        eng.flush()\n",
    "        #Medimos la energía en cada conexión\n",
    "        for (i,j) in J:\n",
    "            qi = int(q[i])\n",
    "            qj = int(q[j])\n",
    "            if qi==qj:\n",
    "                energy = energy + J[(i,j)]\n",
    "            else:\n",
    "                energy = energy - J[(i,j)]\n",
    "        #Y en cada elemento de la suma de los hiZi\n",
    "        for i in h:\n",
    "            qi = int(q[i])\n",
    "            if qi==0:\n",
    "                energy = energy + h[i]\n",
    "            else:\n",
    "                energy = energy - h[i]\n",
    "    return energy/reps\n"
   ]
  },
  {
   "cell_type": "markdown",
   "metadata": {},
   "source": [
    "Vamos a ver cómo el número de repeticiones influye en la estimación de la energía. Para ello, definimos un modelo de Ising que se corresponde con el problema de buscar el corte máximo en el grafo de la figura\n",
    "\n",
    "<img src=\"Images/max-cut.png\" width=\"60%\">"
   ]
  },
  {
   "cell_type": "code",
   "execution_count": null,
   "metadata": {
    "collapsed": true
   },
   "outputs": [],
   "source": [
    "n = 5\n",
    "J = {(0,1):1,(0,2):1,(1,2):1,(1,3):1,(2,4):1,(3,4):1}\n",
    "h = {}"
   ]
  },
  {
   "cell_type": "markdown",
   "metadata": {},
   "source": [
    "Ahora, fijamos $p=1$ y tomamos los ángulos $\\beta$ y $\\gamma$ iguales, para dibujar una gráfica bidimensional. Comenzamos con solamente 10 repeticiones."
   ]
  },
  {
   "cell_type": "code",
   "execution_count": null,
   "metadata": {},
   "outputs": [],
   "source": [
    "params_range = np.linspace(0.0, 2 * np.pi, 10)\n",
    "data = [expectation_circuit(n,1,J,h,[params,params],10) for params in params_range]\n",
    " \n",
    "plt.xlabel('Ángulo')\n",
    "plt.ylabel('Estimación de energía')\n",
    "plt.plot(params_range, data)\n",
    "plt.show()\n",
    "\n"
   ]
  },
  {
   "cell_type": "markdown",
   "metadata": {},
   "source": [
    "Estimamos de nuevo, pero ahora con 100 repeticiones"
   ]
  },
  {
   "cell_type": "code",
   "execution_count": null,
   "metadata": {},
   "outputs": [],
   "source": [
    "data = [expectation_circuit(n,1,J,h,[params,params],100) for params in params_range]\n",
    " \n",
    "plt.xlabel('Ángulo')\n",
    "plt.ylabel('Estimación de energía')\n",
    "plt.plot(params_range, data)\n",
    "plt.show()\n",
    "\n"
   ]
  },
  {
   "cell_type": "markdown",
   "metadata": {},
   "source": [
    "Y, ahora, con 500"
   ]
  },
  {
   "cell_type": "code",
   "execution_count": null,
   "metadata": {},
   "outputs": [],
   "source": [
    "data = [expectation_circuit(n,1,J,h,[params,params],500) for params in params_range]\n",
    " \n",
    "plt.xlabel('Ángulo')\n",
    "plt.ylabel('Estimación de energía')\n",
    "plt.plot(params_range, data)\n",
    "plt.show()\n",
    "\n"
   ]
  },
  {
   "cell_type": "markdown",
   "metadata": {},
   "source": [
    "Puesto que estamos utilizando un simulador, podemos calcular la energía del estado de forma exacta (que, además, es más rápido). Para ello, definimos una nueva función."
   ]
  },
  {
   "cell_type": "code",
   "execution_count": null,
   "metadata": {
    "collapsed": true
   },
   "outputs": [],
   "source": [
    "def exact_circuit(n,p,J,h, angles):\n",
    "# n es el número de spines (qubits)\n",
    "# p es el parámetro del QAOA\n",
    "# J es un diccionario con las conexiones (i,j) del modelo y sus pesos\n",
    "# h es un diccionario con los qubits que tienen un peso no nulo y sus pesos correspondientes\n",
    "# angles la secuencia de ángulos; alternan los de la parte Z y los de la parte X\n",
    "# reps es el número de repeticiones para la estimación\n",
    "\n",
    "        # Inicializar el simulador\n",
    "        eng = projectq.MainEngine()\n",
    "        # Preparar el estado\n",
    "        q = state(eng,n,p,J,h,angles) \n",
    "        \n",
    "        #Definimos el hamiltoniano\n",
    "        terminos=[]\n",
    "        #Parte JijZiZj\n",
    "        hamiltonian = 0*QubitOperator(\"Z0\")\n",
    "        for (i,j) in J:\n",
    "            hamiltonian = hamiltonian + J[(i,j)]*QubitOperator(\"Z\"+str(i)+\" Z\"+str(j))\n",
    "        #Parte hiZi\n",
    "        for i in h:\n",
    "            hamiltonian = hamiltonian + h[i]*QubitOperator(\"Z\"+str(i))\n",
    "            \n",
    "        \n",
    "        #Calculamos la energía\n",
    "        energy = eng.backend.get_expectation_value(hamiltonian, q)   \n",
    "        # Medimos (si no, da error)\n",
    "        All(Measure) | q\n",
    "        return energy\n"
   ]
  },
  {
   "cell_type": "code",
   "execution_count": null,
   "metadata": {},
   "outputs": [],
   "source": [
    "data = [exact_circuit(n,1,J,h,[params,params]) for params in params_range]\n",
    " \n",
    "plt.xlabel('Ángulo')\n",
    "plt.ylabel('Estimación de energía')\n",
    "plt.plot(params_range, data)\n",
    "plt.show()\n",
    "\n"
   ]
  },
  {
   "cell_type": "markdown",
   "metadata": {},
   "source": [
    "A partir de este punto, entonces, usaremos el método exacto de estimación de la energía (aunque el ordenador cuántico **no tiene acceso a la función de onda** y, por tanto, debe usar la estimación midiendo y repitiendo)\n",
    "\n",
    "Ahora empleamos el método QAOA para aproximar el valor mínimo del modelo de Ising que estamos empleando. Comenzamos con $p=1$ y con ángulos $\\beta$ y $\\gamma$ elegidos al azar. \n",
    "\n",
    "Definimos una función que sólo depende de los ángulos y que luego minimizamos con un algoritmo clásico."
   ]
  },
  {
   "cell_type": "code",
   "execution_count": null,
   "metadata": {},
   "outputs": [],
   "source": [
    "p=1\n",
    "def energy(params):\n",
    "    return exact_circuit(n,p,J,h, params)\n",
    "    \n",
    "initial_params = [np.random.uniform(0, np.pi*2, 2)]\n",
    "minimum=minimize(energy, initial_params, method='L-BFGS-B') \n",
    "print(\"Valor mínimo\", minimum.fun)\n",
    "print(\"Alcanzado en\", minimum.x)"
   ]
  },
  {
   "cell_type": "markdown",
   "metadata": {},
   "source": [
    "Como estamos usando el método exacto para estimar la energía, no medimos la función de onda en ningún momento. En la aplicación real del método, con el ordenador cuántico, para cada estimación realizaríamos una serie de mediciones para estimar la energía y podríamos guardar el valor mínimo obtenido como mejor solución. \n",
    "\n",
    "Para simular este comportamiento, vamos a realizar una serie de mediciones sobre el estado que hemos obtenido al minimizar y vamos a quedarnos con la mejor solución de esas mediciones. Para ello, modificamos ligeramente la función de estimación de energía, para que nos devuelva la mejor solución con su valor de energía."
   ]
  },
  {
   "cell_type": "code",
   "execution_count": null,
   "metadata": {
    "collapsed": true
   },
   "outputs": [],
   "source": [
    "def min_energy(n, p, J, h, angles, reps = 200):\n",
    "# n es el número de spines (qubits)\n",
    "# p es el parámetro del QAOA\n",
    "# J es un diccionario con las conexiones (i,j) del modelo y sus pesos\n",
    "# h es un diccionario con los qubits que tienen un peso no nulo y sus pesos correspondientes\n",
    "# angles la secuencia de ángulos; alternan los de la parte Z y los de la parte X\n",
    "# reps es el número de repeticiones para la estimación\n",
    "\n",
    "    # Esta es la energía máxima posible\n",
    "    best_energy = sum(abs(J[i,j]) for (i,j) in J)+sum(abs(h[i]) for i in h)         \n",
    "    best_q = [0 for _ in range(n)] # valor inicial, temporal, de la mejor solución encontrada\n",
    "    \n",
    "    for i in range(reps):\n",
    "        # Inicializar el simulador\n",
    "        eng = projectq.MainEngine()\n",
    "        # Preparar el estado\n",
    "        q = state(eng,n,p,J,h,angles) \n",
    "                \n",
    "        #Medimos\n",
    "        All(Measure) | q\n",
    "        # flush\n",
    "        eng.flush()\n",
    "        #Medimos la energía en cada conexión\n",
    "        energy = 0\n",
    "        for (i,j) in J:\n",
    "            qi = int(q[i])\n",
    "            qj = int(q[j])\n",
    "            if qi==qj:\n",
    "                energy = energy + J[(i,j)]\n",
    "            else:\n",
    "                energy = energy - J[(i,j)]\n",
    "        #Y en cada elemento de la suma de los hiZi\n",
    "        for i in h:\n",
    "            qi = int(q[i])\n",
    "            if qi==0:\n",
    "                energy = energy + h[i]\n",
    "            else:\n",
    "                energy = energy - h[i]            \n",
    "                    \n",
    "                    \n",
    "        if(energy<=best_energy):\n",
    "            best_energy=energy\n",
    "            best_q=[int(q[i]) for i in range(n)]\n",
    "            \n",
    "            \n",
    "    return best_energy,best_q\n"
   ]
  },
  {
   "cell_type": "markdown",
   "metadata": {},
   "source": [
    "Utilizamos esta función para obtener una aproximación de la solución al problema"
   ]
  },
  {
   "cell_type": "code",
   "execution_count": null,
   "metadata": {},
   "outputs": [],
   "source": [
    "e,q = min_energy(n,p,J,h, minimum.x, 10)\n",
    "print(\"Valor de la solución: \", e)\n",
    "print(\"Alcanzada en: \",q)"
   ]
  },
  {
   "cell_type": "markdown",
   "metadata": {},
   "source": [
    "Ahora usamos $p$ mayor"
   ]
  },
  {
   "cell_type": "code",
   "execution_count": null,
   "metadata": {},
   "outputs": [],
   "source": [
    "p = 2\n",
    "\n",
    "initial_params = [np.random.uniform(0, np.pi*2, 2*p)]\n",
    "minimum=minimize(energy, initial_params, method='L-BFGS-B') \n",
    "print(\"Valor mínimo del QAOA\", minimum.fun)\n",
    "print(\"Alcanzado en\", minimum.x)\n",
    "e,q = min_energy(n,p,J,h, minimum.x, 10)\n",
    "print(\"Valor de la solución: \", e)\n",
    "print(\"Alcanzada en: \",q)"
   ]
  }
 ],
 "metadata": {
  "kernelspec": {
   "display_name": "Python 3",
   "language": "python",
   "name": "python3"
  },
  "language_info": {
   "codemirror_mode": {
    "name": "ipython",
    "version": 3
   },
   "file_extension": ".py",
   "mimetype": "text/x-python",
   "name": "python",
   "nbconvert_exporter": "python",
   "pygments_lexer": "ipython3",
   "version": "3.6.8"
  }
 },
 "nbformat": 4,
 "nbformat_minor": 2
}
